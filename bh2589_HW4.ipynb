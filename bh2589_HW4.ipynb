{
 "cells": [
  {
   "cell_type": "markdown",
   "metadata": {},
   "source": [
    "# SQL HW4 Bing Han bh2589"
   ]
  },
  {
   "cell_type": "markdown",
   "metadata": {},
   "source": [
    "Question 1: Give a count of all videos currently out."
   ]
  },
  {
   "cell_type": "raw",
   "metadata": {},
   "source": [
    "SELECT COUNT(*) FROM rental\n",
    "WHERE return_date IS null"
   ]
  },
  {
   "cell_type": "markdown",
   "metadata": {},
   "source": [
    "Qustion 2: Make a list of all customer names who have videos out and how much they owe."
   ]
  },
  {
   "cell_type": "raw",
   "metadata": {},
   "source": [
    "SELECT rental.customer_id, customer.first_name, customer.last_name,count(*)\n",
    "FROM rental\n",
    "JOIN customer ON rental.customer_id=customer.customer_id\n",
    "WHERE rental.return_date is null\n",
    "GROUP BY rental.customer_id,customer.first_name,customer.last_name\n",
    "ORDER BY COUNT DESC"
   ]
  },
  {
   "cell_type": "markdown",
   "metadata": {},
   "source": [
    "Qustion 3: Give the most popular actors by store location."
   ]
  },
  {
   "cell_type": "code",
   "execution_count": null,
   "metadata": {
    "collapsed": true
   },
   "outputs": [],
   "source": [
    "SELECT add.address,COUNT(fa.actor_id), first_name, last_name\n",
    "FROM rental rent\n",
    "JOIN inventory iv on iv.inventory_id = rent.inventory_id\n",
    "JOIN store st on st.store_id = iv.store_id\n",
    "JOIN address add on add.address_id = st.address_id\n",
    "JOIN film_actor fa on fa.film_id = iv.film_id\n",
    "JOIN actor act on act.actor_id = fa.actor_id\n",
    "GROUP BY add.address,first_name,last_name\n",
    "ORDER BY COUNT DESC    "
   ]
  },
  {
   "cell_type": "markdown",
   "metadata": {},
   "source": [
    "Question 4: What hour of the day to people rent the most?"
   ]
  },
  {
   "cell_type": "raw",
   "metadata": {},
   "source": [
    "SELECT EXTRACT(HOUR FROM rental_date) AS Hour, COUNT(*)\n",
    "FROM rental\n",
    "GROUP BY Hour\n",
    "ORDER BY COUNT DESC\n",
    "LIMIT 1"
   ]
  },
  {
   "cell_type": "markdown",
   "metadata": {},
   "source": [
    "Question 6: Which store is more profitable, assuming all movies cost $15 per inventory item to purchase."
   ]
  },
  {
   "cell_type": "raw",
   "metadata": {},
   "source": [
    "SELECT s.store, (s.total_sales - 15*count(i.inventory_id)) AS profit\n",
    "FROM sales_by_store s\n",
    "JOIN staff_list sl on sl.name = s.manager\n",
    "JOIN inventory i on i.store_id = sl.sid\n",
    "GROUP BY s.store, s.total_sales"
   ]
  }
 ],
 "metadata": {
  "kernelspec": {
   "display_name": "Python 2",
   "language": "python",
   "name": "python2"
  },
  "language_info": {
   "codemirror_mode": {
    "name": "ipython",
    "version": 2
   },
   "file_extension": ".py",
   "mimetype": "text/x-python",
   "name": "python",
   "nbconvert_exporter": "python",
   "pygments_lexer": "ipython2",
   "version": "2.7.13"
  }
 },
 "nbformat": 4,
 "nbformat_minor": 2
}
