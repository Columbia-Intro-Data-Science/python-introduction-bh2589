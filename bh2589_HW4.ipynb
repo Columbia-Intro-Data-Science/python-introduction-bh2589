{
 "cells": [
  {
   "cell_type": "markdown",
   "metadata": {},
   "source": [
    "# SQL HW4 Bing Han bh2589"
   ]
  },
  {
   "cell_type": "markdown",
   "metadata": {},
   "source": [
    "### Question 1: Give a count of all videos currently out."
   ]
  },
  {
   "cell_type": "markdown",
   "metadata": {},
   "source": [
    "SELECT COUNT(*) FROM rental\n",
    "\n",
    "WHERE return_date IS null"
   ]
  },
  {
   "cell_type": "markdown",
   "metadata": {},
   "source": [
    "### Qustion 2: Make a list of all customer names who have videos out and how much they owe."
   ]
  },
  {
   "cell_type": "markdown",
   "metadata": {},
   "source": [
    "SELECT rental.customer_id, customer.first_name, customer.last_name,count(*)\n",
    "\n",
    "FROM rental\n",
    "\n",
    "JOIN customer ON rental.customer_id=customer.customer_id\n",
    "\n",
    "WHERE rental.return_date is null\n",
    "\n",
    "GROUP BY rental.customer_id,customer.first_name,customer.last_name\n",
    "\n",
    "ORDER BY COUNT DESC"
   ]
  },
  {
   "cell_type": "markdown",
   "metadata": {},
   "source": [
    "### Qustion 3: Give the most popular actors by store location."
   ]
  },
  {
   "cell_type": "markdown",
   "metadata": {
    "collapsed": true
   },
   "source": [
    "SELECT add.address,COUNT(fa.actor_id), first_name, last_name\n",
    "\n",
    "FROM rental rent\n",
    "\n",
    "JOIN inventory iv on iv.inventory_id = rent.inventory_id\n",
    "\n",
    "JOIN store st on st.store_id = iv.store_id\n",
    "\n",
    "JOIN address add on add.address_id = st.address_id\n",
    "\n",
    "JOIN film_actor fa on fa.film_id = iv.film_id\n",
    "\n",
    "JOIN actor act on act.actor_id = fa.actor_id\n",
    "\n",
    "GROUP BY add.address,first_name,last_name\n",
    "\n",
    "ORDER BY COUNT DESC    "
   ]
  },
  {
   "cell_type": "markdown",
   "metadata": {},
   "source": [
    "### Question 4: What hour of the day to people rent the most?"
   ]
  },
  {
   "cell_type": "markdown",
   "metadata": {},
   "source": [
    "SELECT EXTRACT(HOUR FROM rental_date) AS Hour, COUNT(*)\n",
    "\n",
    "FROM rental\n",
    "\n",
    "GROUP BY Hour\n",
    "\n",
    "ORDER BY COUNT DESC\n",
    "\n",
    "LIMIT 1"
   ]
  },
  {
   "cell_type": "markdown",
   "metadata": {},
   "source": [
    "### Question 6: Which store is more profitable, assuming all movies cost $15 per inventory item to purchase."
   ]
  },
  {
   "cell_type": "markdown",
   "metadata": {},
   "source": [
    "SELECT s.store, (s.total_sales - 15*count(i.inventory_id)) AS profit\n",
    "\n",
    "FROM sales_by_store s\n",
    "\n",
    "JOIN staff_list sl on sl.name = s.manager\n",
    "\n",
    "JOIN inventory i on i.store_id = sl.sid\n",
    "\n",
    "GROUP BY s.store, s.total_sales"
   ]
  },
  {
   "cell_type": "code",
   "execution_count": null,
   "metadata": {
    "collapsed": true
   },
   "outputs": [],
   "source": []
  }
 ],
 "metadata": {
  "kernelspec": {
   "display_name": "Python 2",
   "language": "python",
   "name": "python2"
  },
  "language_info": {
   "codemirror_mode": {
    "name": "ipython",
    "version": 2
   },
   "file_extension": ".py",
   "mimetype": "text/x-python",
   "name": "python",
   "nbconvert_exporter": "python",
   "pygments_lexer": "ipython2",
   "version": "2.7.13"
  }
 },
 "nbformat": 4,
 "nbformat_minor": 2
}
