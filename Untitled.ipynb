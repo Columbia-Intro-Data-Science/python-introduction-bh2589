{
 "cells": [
  {
   "cell_type": "code",
   "execution_count": 13,
   "metadata": {
    "collapsed": false
   },
   "outputs": [
    {
     "name": "stdout",
     "output_type": "stream",
     "text": [
      "                  Open        High         Low       Close     Volume  \\\n",
      "Date                                                                    \n",
      "1980-12-12   28.750000   28.875000   28.750000   28.750000  117258400   \n",
      "1980-12-15   27.375001   27.375001   27.250000   27.250000   43971200   \n",
      "1980-12-16   25.375000   25.375000   25.250000   25.250000   26432000   \n",
      "1980-12-17   25.875000   25.999999   25.875000   25.875000   21610400   \n",
      "1980-12-18   26.625000   26.750000   26.625000   26.625000   18362400   \n",
      "1980-12-19   28.249999   28.374999   28.249999   28.249999   12157600   \n",
      "1980-12-22   29.625000   29.750000   29.625000   29.625000    9340800   \n",
      "1980-12-23   30.874999   30.999999   30.874999   30.874999   11737600   \n",
      "1980-12-24   32.500000   32.624999   32.500000   32.500000   12000800   \n",
      "1980-12-26   35.500001   35.625001   35.500001   35.500001   13893600   \n",
      "1980-12-29   36.000000   36.124999   36.000000   36.000000   23290400   \n",
      "1980-12-30   35.249999   35.249999   35.125000   35.125000   17220000   \n",
      "1980-12-31   34.250000   34.250000   34.125000   34.125000    8937600   \n",
      "1981-01-02   34.499999   34.750001   34.499999   34.499999    5415200   \n",
      "1981-01-05   33.875001   33.875001   33.750001   33.750001    8932000   \n",
      "1981-01-06   32.375000   32.375000   32.250000   32.250000   11289600   \n",
      "1981-01-07   30.999999   30.999999   30.874999   30.874999   13921600   \n",
      "1981-01-08   30.375001   30.375001   30.250001   30.250001    9956800   \n",
      "1981-01-09   31.874999   32.000001   31.874999   31.874999    5376000   \n",
      "1981-01-12   31.874999   31.874999   31.625000   31.625000    5924800   \n",
      "1981-01-13   30.625000   30.625000   30.500000   30.500000    5762400   \n",
      "1981-01-14   30.625000   30.750000   30.625000   30.625000    3572800   \n",
      "1981-01-15   31.250001   31.500000   31.250001   31.250001    3516800   \n",
      "1981-01-16   31.125001   31.125001   30.999999   30.999999    3348800   \n",
      "1981-01-19   32.875001   33.000001   32.875001   32.875001   10393600   \n",
      "1981-01-20   32.000001   32.000001   31.874999   31.874999    7520800   \n",
      "1981-01-21   32.500000   32.749999   32.500000   32.500000    3976000   \n",
      "1981-01-22   32.875001   33.125000   32.875001   32.875001    8887200   \n",
      "1981-01-23   32.875001   33.000001   32.749999   32.749999    2805600   \n",
      "1981-01-26   32.375000   32.375000   32.250000   32.250000    6160000   \n",
      "...                ...         ...         ...         ...        ...   \n",
      "2017-03-09  138.740005  138.789993  137.050003  138.679993   22155900   \n",
      "2017-03-10  139.250000  139.360001  138.639999  139.139999   19612800   \n",
      "2017-03-13  138.850006  139.429993  138.820007  139.199997   17421700   \n",
      "2017-03-14  139.300003  139.649994  138.839996  138.990005   15309100   \n",
      "2017-03-15  139.410004  140.750000  139.029999  140.460007   25691800   \n",
      "2017-03-16  140.720001  141.020004  140.259995  140.690002   19232000   \n",
      "2017-03-17  141.000000  141.000000  139.889999  139.990005   43885000   \n",
      "2017-03-20  140.399994  141.500000  140.229996  141.460007   21542000   \n",
      "2017-03-21  142.110001  142.800003  139.729996  139.839996   39529900   \n",
      "2017-03-22  139.850006  141.600006  139.759995  141.419998   25860200   \n",
      "2017-03-23  141.259995  141.580002  140.610001  140.919998   20346300   \n",
      "2017-03-24  141.500000  141.740005  140.350006  140.639999   22395600   \n",
      "2017-03-27  139.389999  141.220001  138.619995  140.880005   23575100   \n",
      "2017-03-28  140.910004  144.039993  140.619995  143.800003   33374800   \n",
      "2017-03-29  143.679993  144.490005  143.190002  144.119995   29190000   \n",
      "2017-03-30  144.190002  144.500000  143.500000  143.929993   21207300   \n",
      "2017-03-31  143.720001  144.270004  143.009995  143.660004   19661700   \n",
      "2017-04-03  143.710007  144.119995  143.050003  143.699997   19985700   \n",
      "2017-04-04  143.250000  144.889999  143.169998  144.770004   19765700   \n",
      "2017-04-05  144.220001  145.460007  143.809998  144.020004   27481500   \n",
      "2017-04-06  144.289993  144.520004  143.449997  143.660004   21118000   \n",
      "2017-04-07  143.729996  144.179993  143.270004  143.339996   16621300   \n",
      "2017-04-10  143.600006  143.880005  142.899994  143.169998   18473000   \n",
      "2017-04-11  142.940002  143.350006  140.059998  141.630005   30275300   \n",
      "2017-04-12  141.600006  142.149994  141.009995  141.800003   20238900   \n",
      "2017-04-13  141.910004  142.380005  141.050003  141.050003   17652900   \n",
      "2017-04-17  141.479996  141.880005  140.869995  141.830002   16424000   \n",
      "2017-04-18  141.410004  142.039993  141.110001  141.199997   14660800   \n",
      "2017-04-19  141.880005  142.000000  140.449997  140.679993   17271300   \n",
      "2017-04-20  141.220001  142.919998  141.160004  142.440002   23251100   \n",
      "\n",
      "             Adj Close  \n",
      "Date                    \n",
      "1980-12-12    0.425000  \n",
      "1980-12-15    0.402826  \n",
      "1980-12-16    0.373261  \n",
      "1980-12-17    0.382500  \n",
      "1980-12-18    0.393587  \n",
      "1980-12-19    0.417608  \n",
      "1980-12-22    0.437934  \n",
      "1980-12-23    0.456413  \n",
      "1980-12-24    0.480434  \n",
      "1980-12-26    0.524782  \n",
      "1980-12-29    0.532174  \n",
      "1980-12-30    0.519239  \n",
      "1980-12-31    0.504456  \n",
      "1981-01-02    0.510000  \n",
      "1981-01-05    0.498913  \n",
      "1981-01-06    0.476739  \n",
      "1981-01-07    0.456413  \n",
      "1981-01-08    0.447174  \n",
      "1981-01-09    0.471195  \n",
      "1981-01-12    0.467500  \n",
      "1981-01-13    0.450869  \n",
      "1981-01-14    0.452717  \n",
      "1981-01-15    0.461956  \n",
      "1981-01-16    0.458261  \n",
      "1981-01-19    0.485978  \n",
      "1981-01-20    0.471195  \n",
      "1981-01-21    0.480434  \n",
      "1981-01-22    0.485978  \n",
      "1981-01-23    0.484130  \n",
      "1981-01-26    0.476739  \n",
      "...                ...  \n",
      "2017-03-09  138.679993  \n",
      "2017-03-10  139.139999  \n",
      "2017-03-13  139.199997  \n",
      "2017-03-14  138.990005  \n",
      "2017-03-15  140.460007  \n",
      "2017-03-16  140.690002  \n",
      "2017-03-17  139.990005  \n",
      "2017-03-20  141.460007  \n",
      "2017-03-21  139.839996  \n",
      "2017-03-22  141.419998  \n",
      "2017-03-23  140.919998  \n",
      "2017-03-24  140.639999  \n",
      "2017-03-27  140.880005  \n",
      "2017-03-28  143.800003  \n",
      "2017-03-29  144.119995  \n",
      "2017-03-30  143.929993  \n",
      "2017-03-31  143.660004  \n",
      "2017-04-03  143.699997  \n",
      "2017-04-04  144.770004  \n",
      "2017-04-05  144.020004  \n",
      "2017-04-06  143.660004  \n",
      "2017-04-07  143.339996  \n",
      "2017-04-10  143.169998  \n",
      "2017-04-11  141.630005  \n",
      "2017-04-12  141.800003  \n",
      "2017-04-13  141.050003  \n",
      "2017-04-17  141.830002  \n",
      "2017-04-18  141.199997  \n",
      "2017-04-19  140.679993  \n",
      "2017-04-20  142.440002  \n",
      "\n",
      "[9167 rows x 6 columns]\n",
      "Aw, snap! We don't have an account for ''. Want to try again? You can authenticate with your email address or username. Sign in is not case sensitive.\n",
      "\n",
      "Don't have an account? plot.ly\n",
      "\n",
      "Questions? support@plot.ly\n"
     ]
    },
    {
     "ename": "PlotlyError",
     "evalue": "Because you didn't supply a 'file_id' in the call, we're assuming you're trying to snag a figure from a url. You supplied the url, '', we expected it to start with 'https://plot.ly'.\nRun help on this function for more information.",
     "output_type": "error",
     "traceback": [
      "\u001b[0;31m---------------------------------------------------------------------------\u001b[0m",
      "\u001b[0;31mPlotlyError\u001b[0m                               Traceback (most recent call last)",
      "\u001b[0;32m<ipython-input-13-cb4bcc096f6e>\u001b[0m in \u001b[0;36m<module>\u001b[0;34m()\u001b[0m\n\u001b[1;32m     11\u001b[0m                        close=aapl.Close)\n\u001b[1;32m     12\u001b[0m \u001b[0mdata\u001b[0m \u001b[0;34m=\u001b[0m \u001b[0;34m[\u001b[0m\u001b[0mtrace\u001b[0m\u001b[0;34m]\u001b[0m\u001b[0;34m\u001b[0m\u001b[0m\n\u001b[0;32m---> 13\u001b[0;31m \u001b[0mpy\u001b[0m\u001b[0;34m.\u001b[0m\u001b[0miplot\u001b[0m\u001b[0;34m(\u001b[0m\u001b[0mdata\u001b[0m\u001b[0;34m,\u001b[0m \u001b[0mfilename\u001b[0m\u001b[0;34m=\u001b[0m\u001b[0;34m'simple_candlestick'\u001b[0m\u001b[0;34m)\u001b[0m\u001b[0;34m\u001b[0m\u001b[0m\n\u001b[0m",
      "\u001b[0;32m/Users/hanbing/anaconda/lib/python2.7/site-packages/plotly/plotly/plotly.pyc\u001b[0m in \u001b[0;36miplot\u001b[0;34m(figure_or_data, **plot_options)\u001b[0m\n\u001b[1;32m    156\u001b[0m         \u001b[0membed_options\u001b[0m\u001b[0;34m[\u001b[0m\u001b[0;34m'height'\u001b[0m\u001b[0;34m]\u001b[0m \u001b[0;34m=\u001b[0m \u001b[0mstr\u001b[0m\u001b[0;34m(\u001b[0m\u001b[0membed_options\u001b[0m\u001b[0;34m[\u001b[0m\u001b[0;34m'height'\u001b[0m\u001b[0;34m]\u001b[0m\u001b[0;34m)\u001b[0m \u001b[0;34m+\u001b[0m \u001b[0;34m'px'\u001b[0m\u001b[0;34m\u001b[0m\u001b[0m\n\u001b[1;32m    157\u001b[0m \u001b[0;34m\u001b[0m\u001b[0m\n\u001b[0;32m--> 158\u001b[0;31m     \u001b[0;32mreturn\u001b[0m \u001b[0mtools\u001b[0m\u001b[0;34m.\u001b[0m\u001b[0membed\u001b[0m\u001b[0;34m(\u001b[0m\u001b[0murl\u001b[0m\u001b[0;34m,\u001b[0m \u001b[0;34m**\u001b[0m\u001b[0membed_options\u001b[0m\u001b[0;34m)\u001b[0m\u001b[0;34m\u001b[0m\u001b[0m\n\u001b[0m\u001b[1;32m    159\u001b[0m \u001b[0;34m\u001b[0m\u001b[0m\n\u001b[1;32m    160\u001b[0m \u001b[0;34m\u001b[0m\u001b[0m\n",
      "\u001b[0;32m/Users/hanbing/anaconda/lib/python2.7/site-packages/plotly/tools.pyc\u001b[0m in \u001b[0;36membed\u001b[0;34m(file_owner_or_url, file_id, width, height)\u001b[0m\n\u001b[1;32m    383\u001b[0m         \u001b[0;32melse\u001b[0m\u001b[0;34m:\u001b[0m\u001b[0;34m\u001b[0m\u001b[0m\n\u001b[1;32m    384\u001b[0m             \u001b[0murl\u001b[0m \u001b[0;34m=\u001b[0m \u001b[0mfile_owner_or_url\u001b[0m\u001b[0;34m\u001b[0m\u001b[0m\n\u001b[0;32m--> 385\u001b[0;31m         \u001b[0;32mreturn\u001b[0m \u001b[0mPlotlyDisplay\u001b[0m\u001b[0;34m(\u001b[0m\u001b[0murl\u001b[0m\u001b[0;34m,\u001b[0m \u001b[0mwidth\u001b[0m\u001b[0;34m,\u001b[0m \u001b[0mheight\u001b[0m\u001b[0;34m)\u001b[0m\u001b[0;34m\u001b[0m\u001b[0m\n\u001b[0m\u001b[1;32m    386\u001b[0m     \u001b[0;32melse\u001b[0m\u001b[0;34m:\u001b[0m\u001b[0;34m\u001b[0m\u001b[0m\n\u001b[1;32m    387\u001b[0m         if (get_config_defaults()['plotly_domain']\n",
      "\u001b[0;32m/Users/hanbing/anaconda/lib/python2.7/site-packages/plotly/tools.pyc\u001b[0m in \u001b[0;36m__init__\u001b[0;34m(self, url, width, height)\u001b[0m\n\u001b[1;32m   1358\u001b[0m         \u001b[0;32mdef\u001b[0m \u001b[0m__init__\u001b[0m\u001b[0;34m(\u001b[0m\u001b[0mself\u001b[0m\u001b[0;34m,\u001b[0m \u001b[0murl\u001b[0m\u001b[0;34m,\u001b[0m \u001b[0mwidth\u001b[0m\u001b[0;34m,\u001b[0m \u001b[0mheight\u001b[0m\u001b[0;34m)\u001b[0m\u001b[0;34m:\u001b[0m\u001b[0;34m\u001b[0m\u001b[0m\n\u001b[1;32m   1359\u001b[0m             \u001b[0mself\u001b[0m\u001b[0;34m.\u001b[0m\u001b[0mresource\u001b[0m \u001b[0;34m=\u001b[0m \u001b[0murl\u001b[0m\u001b[0;34m\u001b[0m\u001b[0m\n\u001b[0;32m-> 1360\u001b[0;31m             \u001b[0mself\u001b[0m\u001b[0;34m.\u001b[0m\u001b[0membed_code\u001b[0m \u001b[0;34m=\u001b[0m \u001b[0mget_embed\u001b[0m\u001b[0;34m(\u001b[0m\u001b[0murl\u001b[0m\u001b[0;34m,\u001b[0m \u001b[0mwidth\u001b[0m\u001b[0;34m=\u001b[0m\u001b[0mwidth\u001b[0m\u001b[0;34m,\u001b[0m \u001b[0mheight\u001b[0m\u001b[0;34m=\u001b[0m\u001b[0mheight\u001b[0m\u001b[0;34m)\u001b[0m\u001b[0;34m\u001b[0m\u001b[0m\n\u001b[0m\u001b[1;32m   1361\u001b[0m             \u001b[0msuper\u001b[0m\u001b[0;34m(\u001b[0m\u001b[0mPlotlyDisplay\u001b[0m\u001b[0;34m,\u001b[0m \u001b[0mself\u001b[0m\u001b[0;34m)\u001b[0m\u001b[0;34m.\u001b[0m\u001b[0m__init__\u001b[0m\u001b[0;34m(\u001b[0m\u001b[0mdata\u001b[0m\u001b[0;34m=\u001b[0m\u001b[0mself\u001b[0m\u001b[0;34m.\u001b[0m\u001b[0membed_code\u001b[0m\u001b[0;34m)\u001b[0m\u001b[0;34m\u001b[0m\u001b[0m\n\u001b[1;32m   1362\u001b[0m \u001b[0;34m\u001b[0m\u001b[0m\n",
      "\u001b[0;32m/Users/hanbing/anaconda/lib/python2.7/site-packages/plotly/tools.pyc\u001b[0m in \u001b[0;36mget_embed\u001b[0;34m(file_owner_or_url, file_id, width, height)\u001b[0m\n\u001b[1;32m    288\u001b[0m                 \u001b[0;34m\"'{1}'.\"\u001b[0m\u001b[0;34m\u001b[0m\u001b[0m\n\u001b[1;32m    289\u001b[0m                 \u001b[0;34m\"\\nRun help on this function for more information.\"\u001b[0m\u001b[0;34m\u001b[0m\u001b[0m\n\u001b[0;32m--> 290\u001b[0;31m                 \"\".format(url, plotly_rest_url))\n\u001b[0m\u001b[1;32m    291\u001b[0m         \u001b[0murlsplit\u001b[0m \u001b[0;34m=\u001b[0m \u001b[0msix\u001b[0m\u001b[0;34m.\u001b[0m\u001b[0mmoves\u001b[0m\u001b[0;34m.\u001b[0m\u001b[0murllib\u001b[0m\u001b[0;34m.\u001b[0m\u001b[0mparse\u001b[0m\u001b[0;34m.\u001b[0m\u001b[0murlparse\u001b[0m\u001b[0;34m(\u001b[0m\u001b[0murl\u001b[0m\u001b[0;34m)\u001b[0m\u001b[0;34m\u001b[0m\u001b[0m\n\u001b[1;32m    292\u001b[0m         \u001b[0mfile_owner\u001b[0m \u001b[0;34m=\u001b[0m \u001b[0murlsplit\u001b[0m\u001b[0;34m.\u001b[0m\u001b[0mpath\u001b[0m\u001b[0;34m.\u001b[0m\u001b[0msplit\u001b[0m\u001b[0;34m(\u001b[0m\u001b[0;34m'/'\u001b[0m\u001b[0;34m)\u001b[0m\u001b[0;34m[\u001b[0m\u001b[0;36m1\u001b[0m\u001b[0;34m]\u001b[0m\u001b[0;34m.\u001b[0m\u001b[0msplit\u001b[0m\u001b[0;34m(\u001b[0m\u001b[0;34m'~'\u001b[0m\u001b[0;34m)\u001b[0m\u001b[0;34m[\u001b[0m\u001b[0;36m1\u001b[0m\u001b[0;34m]\u001b[0m\u001b[0;34m\u001b[0m\u001b[0m\n",
      "\u001b[0;31mPlotlyError\u001b[0m: Because you didn't supply a 'file_id' in the call, we're assuming you're trying to snag a figure from a url. You supplied the url, '', we expected it to start with 'https://plot.ly'.\nRun help on this function for more information."
     ]
    }
   ],
   "source": [
    "from pandas_datareader import data\n",
    "aapl = data.DataReader('AAPL', 'yahoo', '1980-01-01')\n",
    "print aapl\n",
    "\n",
    "import plotly.plotly as py\n",
    "import plotly.graph_objs as go\n",
    "trace = go.Candlestick(\n",
    "                       open=aapl.Open,\n",
    "                       high=aapl.High,\n",
    "                       low=aapl.Low,\n",
    "                       close=aapl.Close)\n",
    "data = [trace]\n",
    "py.iplot(data, filename='simple_candlestick')"
   ]
  },
  {
   "cell_type": "code",
   "execution_count": 11,
   "metadata": {
    "collapsed": false
   },
   "outputs": [
    {
     "name": "stdout",
     "output_type": "stream",
     "text": [
      "Aw, snap! We don't have an account for ''. Want to try again? You can authenticate with your email address or username. Sign in is not case sensitive.\n",
      "\n",
      "Don't have an account? plot.ly\n",
      "\n",
      "Questions? support@plot.ly\n"
     ]
    },
    {
     "ename": "PlotlyError",
     "evalue": "Because you didn't supply a 'file_id' in the call, we're assuming you're trying to snag a figure from a url. You supplied the url, '', we expected it to start with 'https://plot.ly'.\nRun help on this function for more information.",
     "output_type": "error",
     "traceback": [
      "\u001b[0;31m---------------------------------------------------------------------------\u001b[0m",
      "\u001b[0;31mPlotlyError\u001b[0m                               Traceback (most recent call last)",
      "\u001b[0;32m<ipython-input-11-52582bc76bbe>\u001b[0m in \u001b[0;36m<module>\u001b[0;34m()\u001b[0m\n\u001b[1;32m      9\u001b[0m                        close=df.Close)\n\u001b[1;32m     10\u001b[0m \u001b[0mdata\u001b[0m \u001b[0;34m=\u001b[0m \u001b[0;34m[\u001b[0m\u001b[0mtrace\u001b[0m\u001b[0;34m]\u001b[0m\u001b[0;34m\u001b[0m\u001b[0m\n\u001b[0;32m---> 11\u001b[0;31m \u001b[0mpy\u001b[0m\u001b[0;34m.\u001b[0m\u001b[0miplot\u001b[0m\u001b[0;34m(\u001b[0m\u001b[0mdata\u001b[0m\u001b[0;34m,\u001b[0m \u001b[0mfilename\u001b[0m\u001b[0;34m=\u001b[0m\u001b[0;34m'simple_candlestick'\u001b[0m\u001b[0;34m)\u001b[0m\u001b[0;34m\u001b[0m\u001b[0m\n\u001b[0m",
      "\u001b[0;32m/Users/hanbing/anaconda/lib/python2.7/site-packages/plotly/plotly/plotly.pyc\u001b[0m in \u001b[0;36miplot\u001b[0;34m(figure_or_data, **plot_options)\u001b[0m\n\u001b[1;32m    156\u001b[0m         \u001b[0membed_options\u001b[0m\u001b[0;34m[\u001b[0m\u001b[0;34m'height'\u001b[0m\u001b[0;34m]\u001b[0m \u001b[0;34m=\u001b[0m \u001b[0mstr\u001b[0m\u001b[0;34m(\u001b[0m\u001b[0membed_options\u001b[0m\u001b[0;34m[\u001b[0m\u001b[0;34m'height'\u001b[0m\u001b[0;34m]\u001b[0m\u001b[0;34m)\u001b[0m \u001b[0;34m+\u001b[0m \u001b[0;34m'px'\u001b[0m\u001b[0;34m\u001b[0m\u001b[0m\n\u001b[1;32m    157\u001b[0m \u001b[0;34m\u001b[0m\u001b[0m\n\u001b[0;32m--> 158\u001b[0;31m     \u001b[0;32mreturn\u001b[0m \u001b[0mtools\u001b[0m\u001b[0;34m.\u001b[0m\u001b[0membed\u001b[0m\u001b[0;34m(\u001b[0m\u001b[0murl\u001b[0m\u001b[0;34m,\u001b[0m \u001b[0;34m**\u001b[0m\u001b[0membed_options\u001b[0m\u001b[0;34m)\u001b[0m\u001b[0;34m\u001b[0m\u001b[0m\n\u001b[0m\u001b[1;32m    159\u001b[0m \u001b[0;34m\u001b[0m\u001b[0m\n\u001b[1;32m    160\u001b[0m \u001b[0;34m\u001b[0m\u001b[0m\n",
      "\u001b[0;32m/Users/hanbing/anaconda/lib/python2.7/site-packages/plotly/tools.pyc\u001b[0m in \u001b[0;36membed\u001b[0;34m(file_owner_or_url, file_id, width, height)\u001b[0m\n\u001b[1;32m    383\u001b[0m         \u001b[0;32melse\u001b[0m\u001b[0;34m:\u001b[0m\u001b[0;34m\u001b[0m\u001b[0m\n\u001b[1;32m    384\u001b[0m             \u001b[0murl\u001b[0m \u001b[0;34m=\u001b[0m \u001b[0mfile_owner_or_url\u001b[0m\u001b[0;34m\u001b[0m\u001b[0m\n\u001b[0;32m--> 385\u001b[0;31m         \u001b[0;32mreturn\u001b[0m \u001b[0mPlotlyDisplay\u001b[0m\u001b[0;34m(\u001b[0m\u001b[0murl\u001b[0m\u001b[0;34m,\u001b[0m \u001b[0mwidth\u001b[0m\u001b[0;34m,\u001b[0m \u001b[0mheight\u001b[0m\u001b[0;34m)\u001b[0m\u001b[0;34m\u001b[0m\u001b[0m\n\u001b[0m\u001b[1;32m    386\u001b[0m     \u001b[0;32melse\u001b[0m\u001b[0;34m:\u001b[0m\u001b[0;34m\u001b[0m\u001b[0m\n\u001b[1;32m    387\u001b[0m         if (get_config_defaults()['plotly_domain']\n",
      "\u001b[0;32m/Users/hanbing/anaconda/lib/python2.7/site-packages/plotly/tools.pyc\u001b[0m in \u001b[0;36m__init__\u001b[0;34m(self, url, width, height)\u001b[0m\n\u001b[1;32m   1358\u001b[0m         \u001b[0;32mdef\u001b[0m \u001b[0m__init__\u001b[0m\u001b[0;34m(\u001b[0m\u001b[0mself\u001b[0m\u001b[0;34m,\u001b[0m \u001b[0murl\u001b[0m\u001b[0;34m,\u001b[0m \u001b[0mwidth\u001b[0m\u001b[0;34m,\u001b[0m \u001b[0mheight\u001b[0m\u001b[0;34m)\u001b[0m\u001b[0;34m:\u001b[0m\u001b[0;34m\u001b[0m\u001b[0m\n\u001b[1;32m   1359\u001b[0m             \u001b[0mself\u001b[0m\u001b[0;34m.\u001b[0m\u001b[0mresource\u001b[0m \u001b[0;34m=\u001b[0m \u001b[0murl\u001b[0m\u001b[0;34m\u001b[0m\u001b[0m\n\u001b[0;32m-> 1360\u001b[0;31m             \u001b[0mself\u001b[0m\u001b[0;34m.\u001b[0m\u001b[0membed_code\u001b[0m \u001b[0;34m=\u001b[0m \u001b[0mget_embed\u001b[0m\u001b[0;34m(\u001b[0m\u001b[0murl\u001b[0m\u001b[0;34m,\u001b[0m \u001b[0mwidth\u001b[0m\u001b[0;34m=\u001b[0m\u001b[0mwidth\u001b[0m\u001b[0;34m,\u001b[0m \u001b[0mheight\u001b[0m\u001b[0;34m=\u001b[0m\u001b[0mheight\u001b[0m\u001b[0;34m)\u001b[0m\u001b[0;34m\u001b[0m\u001b[0m\n\u001b[0m\u001b[1;32m   1361\u001b[0m             \u001b[0msuper\u001b[0m\u001b[0;34m(\u001b[0m\u001b[0mPlotlyDisplay\u001b[0m\u001b[0;34m,\u001b[0m \u001b[0mself\u001b[0m\u001b[0;34m)\u001b[0m\u001b[0;34m.\u001b[0m\u001b[0m__init__\u001b[0m\u001b[0;34m(\u001b[0m\u001b[0mdata\u001b[0m\u001b[0;34m=\u001b[0m\u001b[0mself\u001b[0m\u001b[0;34m.\u001b[0m\u001b[0membed_code\u001b[0m\u001b[0;34m)\u001b[0m\u001b[0;34m\u001b[0m\u001b[0m\n\u001b[1;32m   1362\u001b[0m \u001b[0;34m\u001b[0m\u001b[0m\n",
      "\u001b[0;32m/Users/hanbing/anaconda/lib/python2.7/site-packages/plotly/tools.pyc\u001b[0m in \u001b[0;36mget_embed\u001b[0;34m(file_owner_or_url, file_id, width, height)\u001b[0m\n\u001b[1;32m    288\u001b[0m                 \u001b[0;34m\"'{1}'.\"\u001b[0m\u001b[0;34m\u001b[0m\u001b[0m\n\u001b[1;32m    289\u001b[0m                 \u001b[0;34m\"\\nRun help on this function for more information.\"\u001b[0m\u001b[0;34m\u001b[0m\u001b[0m\n\u001b[0;32m--> 290\u001b[0;31m                 \"\".format(url, plotly_rest_url))\n\u001b[0m\u001b[1;32m    291\u001b[0m         \u001b[0murlsplit\u001b[0m \u001b[0;34m=\u001b[0m \u001b[0msix\u001b[0m\u001b[0;34m.\u001b[0m\u001b[0mmoves\u001b[0m\u001b[0;34m.\u001b[0m\u001b[0murllib\u001b[0m\u001b[0;34m.\u001b[0m\u001b[0mparse\u001b[0m\u001b[0;34m.\u001b[0m\u001b[0murlparse\u001b[0m\u001b[0;34m(\u001b[0m\u001b[0murl\u001b[0m\u001b[0;34m)\u001b[0m\u001b[0;34m\u001b[0m\u001b[0m\n\u001b[1;32m    292\u001b[0m         \u001b[0mfile_owner\u001b[0m \u001b[0;34m=\u001b[0m \u001b[0murlsplit\u001b[0m\u001b[0;34m.\u001b[0m\u001b[0mpath\u001b[0m\u001b[0;34m.\u001b[0m\u001b[0msplit\u001b[0m\u001b[0;34m(\u001b[0m\u001b[0;34m'/'\u001b[0m\u001b[0;34m)\u001b[0m\u001b[0;34m[\u001b[0m\u001b[0;36m1\u001b[0m\u001b[0;34m]\u001b[0m\u001b[0;34m.\u001b[0m\u001b[0msplit\u001b[0m\u001b[0;34m(\u001b[0m\u001b[0;34m'~'\u001b[0m\u001b[0;34m)\u001b[0m\u001b[0;34m[\u001b[0m\u001b[0;36m1\u001b[0m\u001b[0;34m]\u001b[0m\u001b[0;34m\u001b[0m\u001b[0m\n",
      "\u001b[0;31mPlotlyError\u001b[0m: Because you didn't supply a 'file_id' in the call, we're assuming you're trying to snag a figure from a url. You supplied the url, '', we expected it to start with 'https://plot.ly'.\nRun help on this function for more information."
     ]
    }
   ],
   "source": [
    "from datetime import datetime\n",
    "from pandas_datareader import data\n",
    "\n",
    "df = data.DataReader(\"aapl\", 'yahoo', datetime(2007, 10, 1), datetime(2009, 4, 1))\n",
    "trace = go.Candlestick(x=df.index,\n",
    "                       open=df.Open,\n",
    "                       high=df.High,\n",
    "                       low=df.Low,\n",
    "                       close=df.Close)\n",
    "data = [trace]\n",
    "py.iplot(data, filename='simple_candlestick')"
   ]
  },
  {
   "cell_type": "code",
   "execution_count": 15,
   "metadata": {
    "collapsed": false
   },
   "outputs": [
    {
     "ename": "AttributeError",
     "evalue": "'method_descriptor' object has no attribute 'today'",
     "output_type": "error",
     "traceback": [
      "\u001b[0;31m---------------------------------------------------------------------------\u001b[0m",
      "\u001b[0;31mAttributeError\u001b[0m                            Traceback (most recent call last)",
      "\u001b[0;32m<ipython-input-15-6d6bb016abe8>\u001b[0m in \u001b[0;36m<module>\u001b[0;34m()\u001b[0m\n\u001b[1;32m      1\u001b[0m \u001b[0mstart\u001b[0m \u001b[0;34m=\u001b[0m \u001b[0mdatetime\u001b[0m\u001b[0;34m(\u001b[0m\u001b[0;36m2010\u001b[0m\u001b[0;34m,\u001b[0m\u001b[0;36m1\u001b[0m\u001b[0;34m,\u001b[0m\u001b[0;36m1\u001b[0m\u001b[0;34m)\u001b[0m\u001b[0;34m\u001b[0m\u001b[0m\n\u001b[0;32m----> 2\u001b[0;31m \u001b[0mend\u001b[0m \u001b[0;34m=\u001b[0m \u001b[0mdatetime\u001b[0m\u001b[0;34m.\u001b[0m\u001b[0mdate\u001b[0m\u001b[0;34m.\u001b[0m\u001b[0mtoday\u001b[0m\u001b[0;34m(\u001b[0m\u001b[0;34m)\u001b[0m\u001b[0;34m\u001b[0m\u001b[0m\n\u001b[0m\u001b[1;32m      3\u001b[0m \u001b[0mapple\u001b[0m \u001b[0;34m=\u001b[0m \u001b[0mweb\u001b[0m\u001b[0;34m.\u001b[0m\u001b[0mDataReader\u001b[0m\u001b[0;34m(\u001b[0m\u001b[0;34m\"AAPL\"\u001b[0m\u001b[0;34m,\u001b[0m \u001b[0;34m\"yahoo\"\u001b[0m\u001b[0;34m,\u001b[0m \u001b[0mstart\u001b[0m\u001b[0;34m,\u001b[0m \u001b[0mend\u001b[0m\u001b[0;34m)\u001b[0m\u001b[0;34m\u001b[0m\u001b[0m\n\u001b[1;32m      4\u001b[0m \u001b[0mapple\u001b[0m\u001b[0;34m[\u001b[0m\u001b[0;34m\"20d\"\u001b[0m\u001b[0;34m]\u001b[0m \u001b[0;34m=\u001b[0m \u001b[0mnp\u001b[0m\u001b[0;34m.\u001b[0m\u001b[0mround\u001b[0m\u001b[0;34m(\u001b[0m\u001b[0mapple\u001b[0m\u001b[0;34m[\u001b[0m\u001b[0;34m\"Close\"\u001b[0m\u001b[0;34m]\u001b[0m\u001b[0;34m.\u001b[0m\u001b[0mrolling\u001b[0m\u001b[0;34m(\u001b[0m\u001b[0mwindow\u001b[0m \u001b[0;34m=\u001b[0m \u001b[0;36m20\u001b[0m\u001b[0;34m,\u001b[0m \u001b[0mcenter\u001b[0m \u001b[0;34m=\u001b[0m \u001b[0mFalse\u001b[0m\u001b[0;34m)\u001b[0m\u001b[0;34m.\u001b[0m\u001b[0mmean\u001b[0m\u001b[0;34m(\u001b[0m\u001b[0;34m)\u001b[0m\u001b[0;34m,\u001b[0m \u001b[0;36m2\u001b[0m\u001b[0;34m)\u001b[0m\u001b[0;34m\u001b[0m\u001b[0m\n\u001b[1;32m      5\u001b[0m \u001b[0;34m\u001b[0m\u001b[0m\n",
      "\u001b[0;31mAttributeError\u001b[0m: 'method_descriptor' object has no attribute 'today'"
     ]
    }
   ],
   "source": [
    "start = datetime(2010,1,1)\n",
    "end = datetime.date.today()\n",
    "apple = web.DataReader(\"AAPL\", \"yahoo\", start, end)\n",
    "apple[\"20d\"] = np.round(apple[\"Close\"].rolling(window = 20, center = False).mean(), 2)\n",
    " \n",
    "pandas_candlestick_ohlc(apple.loc['2016-01-04':'2016-08-07',:], otherseries = \"20d\")\n"
   ]
  },
  {
   "cell_type": "code",
   "execution_count": null,
   "metadata": {
    "collapsed": true
   },
   "outputs": [],
   "source": []
  }
 ],
 "metadata": {
  "kernelspec": {
   "display_name": "Python 2",
   "language": "python",
   "name": "python2"
  },
  "language_info": {
   "codemirror_mode": {
    "name": "ipython",
    "version": 2
   },
   "file_extension": ".py",
   "mimetype": "text/x-python",
   "name": "python",
   "nbconvert_exporter": "python",
   "pygments_lexer": "ipython2",
   "version": "2.7.13"
  }
 },
 "nbformat": 4,
 "nbformat_minor": 2
}
